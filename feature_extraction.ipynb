{
 "cells": [
  {
   "cell_type": "code",
   "execution_count": null,
   "id": "27d0c5c6",
   "metadata": {},
   "outputs": [],
   "source": [
    "# Place your code here"
   ]
  }
 ],
 "metadata": {
  "language_info": {
   "name": "python"
  }
 },
 "nbformat": 4,
 "nbformat_minor": 2
}
